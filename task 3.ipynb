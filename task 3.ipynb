{
 "cells": [
  {
   "cell_type": "code",
   "execution_count": 1,
   "id": "986d0f94",
   "metadata": {},
   "outputs": [
    {
     "name": "stdout",
     "output_type": "stream",
     "text": [
      "Enter your password: suhassony29\n",
      "Your password strength is: Moderate\n"
     ]
    }
   ],
   "source": [
    "import re\n",
    "\n",
    "def assess_password_strength(password):\n",
    "    length = len(password)\n",
    "    lowercase_letters = bool(re.search(r'[a-z]', password))\n",
    "    uppercase_letters = bool(re.search(r'[A-Z]', password))\n",
    "    numbers = bool(re.search(r'[0-9]', password))\n",
    "    special_characters = bool(re.search(r'[^a-zA-Z0-9]', password))\n",
    "\n",
    "    # Calculate score based on criteria\n",
    "    score = length * 4\n",
    "    if lowercase_letters:\n",
    "        score += 5\n",
    "    if uppercase_letters:\n",
    "        score += 5\n",
    "    if numbers:\n",
    "        score += 5\n",
    "    if special_characters:\n",
    "        score += 5\n",
    "\n",
    "    # Feedback on password strength\n",
    "    if score < 25:\n",
    "        return \"Very Weak\"\n",
    "    elif score < 50:\n",
    "        return \"Weak\"\n",
    "    elif score < 75:\n",
    "        return \"Moderate\"\n",
    "    elif score < 100:\n",
    "        return \"Strong\"\n",
    "    else:\n",
    "        return \"Very Strong\"\n",
    "\n",
    "def main():\n",
    "    password = input(\"Enter your password: \")\n",
    "    strength = assess_password_strength(password)\n",
    "    print(\"Your password strength is:\", strength)\n",
    "\n",
    "if __name__ == \"__main__\":\n",
    "    main()\n"
   ]
  },
  {
   "cell_type": "code",
   "execution_count": null,
   "id": "bb886aaf",
   "metadata": {},
   "outputs": [],
   "source": []
  }
 ],
 "metadata": {
  "kernelspec": {
   "display_name": "Python 3 (ipykernel)",
   "language": "python",
   "name": "python3"
  },
  "language_info": {
   "codemirror_mode": {
    "name": "ipython",
    "version": 3
   },
   "file_extension": ".py",
   "mimetype": "text/x-python",
   "name": "python",
   "nbconvert_exporter": "python",
   "pygments_lexer": "ipython3",
   "version": "3.9.7"
  }
 },
 "nbformat": 4,
 "nbformat_minor": 5
}
